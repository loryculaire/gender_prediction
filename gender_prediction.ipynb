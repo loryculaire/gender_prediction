{
  "nbformat": 4,
  "nbformat_minor": 0,
  "metadata": {
    "colab": {
      "name": "gender_prediction.ipynb",
      "version": "0.3.2",
      "provenance": [],
      "collapsed_sections": [],
      "include_colab_link": true
    },
    "kernelspec": {
      "name": "python3",
      "display_name": "Python 3"
    }
  },
  "cells": [
    {
      "cell_type": "markdown",
      "metadata": {
        "id": "view-in-github",
        "colab_type": "text"
      },
      "source": [
        "<a href=\"https://colab.research.google.com/github/loryculaire/gender_prediction/blob/master/gender_prediction.ipynb\" target=\"_parent\"><img src=\"https://colab.research.google.com/assets/colab-badge.svg\" alt=\"Open In Colab\"/></a>"
      ]
    },
    {
      "metadata": {
        "id": "diAFdc2GkDc1",
        "colab_type": "code",
        "outputId": "bdf4eec0-a240-4511-c6cf-3321ab609d9c",
        "colab": {
          "base_uri": "https://localhost:8080/",
          "height": 119
        }
      },
      "cell_type": "code",
      "source": [
        "from sklearn import tree \n",
        "from sklearn import svm\n",
        "from sklearn import neighbors\n",
        "from sklearn.metrics import accuracy_score\n",
        "\n",
        "\n",
        "# training dataset\n",
        "# [height, weight, shoe_size]\n",
        "data = [[181, 80, 44], [177, 70, 43], [160, 60, 38], [154, 54, 37], [166, 65, 40],\n",
        "     [190, 90, 47], [175, 64, 39],\n",
        "     [177, 70, 40], [159, 55, 37], [171, 75, 42], [181, 85, 43]]\n",
        "\n",
        "target = ['male', 'male', 'female', 'female', 'male', 'male', 'female', 'female',\n",
        "     'female', 'male', 'male']\n",
        "\n",
        "#import the necessary module\n",
        "from sklearn.model_selection import train_test_split\n",
        "\n",
        "#split data set into train and test sets\n",
        "data_train, data_test, target_train, target_test = train_test_split(data,target, test_size = 0.20)     \n",
        "\n",
        "#decision tree\n",
        "clf = tree.DecisionTreeClassifier()\n",
        "clf = clf.fit(data_train,target_train)\n",
        "prediction = clf.predict(data_test)\n",
        "print(\"Decision Tree Classifier : \",accuracy_score(target_test, prediction, normalize = True))\n",
        "\n",
        "print(prediction)\n",
        "\n",
        "\n",
        "#svm\n",
        "\n",
        "clf = svm.SVC()\n",
        "clf = clf.fit(data_train,target_train)\n",
        "prediction = clf.predict(data_test)\n",
        "print(\"SVC : \",accuracy_score(target_test, prediction, normalize = True))\n",
        "\n",
        "print(prediction)\n",
        "\n",
        "\n",
        "#kneighbors\n",
        "\n",
        "clf = neighbors.KNeighborsClassifier()\n",
        "clf = clf.fit(data_train,target_train)\n",
        "prediction = clf.predict(data_test)\n",
        "print(\"kneighbors Classifier : \",accuracy_score(target_test, prediction, normalize = True))\n",
        "\n",
        "print(prediction)\n"
      ],
      "execution_count": 1,
      "outputs": [
        {
          "output_type": "stream",
          "text": [
            "Decision Tree Classifier :  0.6666666666666666\n",
            "['female' 'female' 'male']\n",
            "SVC :  0.6666666666666666\n",
            "['male' 'male' 'male']\n",
            "kneighbors Classifier :  0.6666666666666666\n",
            "['female' 'female' 'male']\n"
          ],
          "name": "stdout"
        }
      ]
    }
  ]
}